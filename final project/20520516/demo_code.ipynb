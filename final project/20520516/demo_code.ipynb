{
 "cells": [
  {
   "cell_type": "code",
   "execution_count": null,
   "metadata": {},
   "outputs": [],
   "source": [
    "import json\n",
    "import pandas as pd\n",
    "\n",
    "# 1. Tải dữ liệu từ file JSON\n",
    "with open(\"../llms4subjects/shared-task-datasets/GND/dataset/GND-Subjects-tib-core.json\", \"r\", encoding=\"utf-8\") as file:\n",
    "    data = json.load(file)\n",
    "\n",
    "# 2. Chuyển dữ liệu sang DataFrame\n",
    "df = pd.json_normalize(data)\n",
    "\n",
    "# 3. Chọn các trường quan trọng\n",
    "fields_to_keep = [\n",
    "    \"Code\", \"Name\", \"Classification Name\", \"Alternate Name\", \n",
    "    \"Related Subjects\", \"Definition\", \"Source URL\"\n",
    "]\n",
    "df = df[fields_to_keep]\n",
    "\n",
    "# 4. Kiểm tra dữ liệu\n",
    "print(\"Số lượng dòng dữ liệu:\", len(df))\n",
    "print(\"Dữ liệu mẫu:\")\n",
    "print(df.head())\n",
    "\n",
    "# 5. Xử lý các cột chứa danh sách (nếu cần)\n",
    "# Chuyển Alternate Name và Related Subjects thành dạng chuỗi, dễ xử lý hơn\n",
    "df[\"Alternate Name\"] = df[\"Alternate Name\"].apply(lambda x: \", \".join(x) if isinstance(x, list) else \"\")\n",
    "df[\"Related Subjects\"] = df[\"Related Subjects\"].apply(lambda x: \", \".join(x) if isinstance(x, list) else \"\")\n",
    "\n",
    "# 6. Lưu dữ liệu đã xử lý ra file CSV để kiểm tra\n",
    "df.to_csv(\"processed_gnd_data.csv\", index=False, encoding=\"utf-8\")\n",
    "del(df)\n"
   ]
  },
  {
   "cell_type": "code",
   "execution_count": null,
   "metadata": {},
   "outputs": [],
   "source": [
    "from torch.utils.data import DataLoader\n",
    "from transformers import AdamW\n",
    "\n",
    "# Tạo DataLoader từ tập dữ liệu\n",
    "train_loader = DataLoader(train_dataset, batch_size=16, shuffle=True)\n",
    "test_loader = DataLoader(test_dataset, batch_size=16)\n",
    "\n",
    "# Chuẩn bị optimizer\n",
    "optimizer = AdamW(model.parameters(), lr=2e-5)\n",
    "\n",
    "# Vòng lặp huấn luyện\n",
    "device = torch.device(\"cuda\" if torch.cuda.is_available() else \"cpu\")\n",
    "model.to(device)\n",
    "\n",
    "for epoch in range(3):  # Số lượng epoch\n",
    "    model.train()\n",
    "    total_loss = 0\n",
    "    for batch in train_loader:\n",
    "        optimizer.zero_grad()\n",
    "        inputs = {k: v.to(device) for k, v in batch.items() if k != \"labels\"}\n",
    "        labels = batch[\"labels\"].to(device)\n",
    "        outputs = model(**inputs, labels=labels)\n",
    "        loss = outputs.loss\n",
    "        loss.backward()\n",
    "        optimizer.step()\n",
    "        total_loss += loss.item()\n",
    "\n",
    "    print(f\"Epoch {epoch + 1} - Loss: {total_loss / len(train_loader)}\")\n",
    "\n",
    "# Đánh giá mô hình (tùy chọn)\n",
    "model.eval()\n",
    "# ...\n"
   ]
  }
 ],
 "metadata": {
  "kernelspec": {
   "display_name": "Python 3",
   "language": "python",
   "name": "python3"
  },
  "language_info": {
   "codemirror_mode": {
    "name": "ipython",
    "version": 3
   },
   "file_extension": ".py",
   "mimetype": "text/x-python",
   "name": "python",
   "nbconvert_exporter": "python",
   "pygments_lexer": "ipython3",
   "version": "3.10.0"
  }
 },
 "nbformat": 4,
 "nbformat_minor": 2
}
